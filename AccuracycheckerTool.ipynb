{
 "cells": [
  {
   "cell_type": "code",
   "execution_count": 1,
   "metadata": {},
   "outputs": [],
   "source": [
    "import torch\n",
    "import numpy as np\n",
    "import os\n"
   ]
  },
  {
   "cell_type": "code",
   "execution_count": 24,
   "metadata": {},
   "outputs": [],
   "source": [
    "def printScore(file):\n",
    "    directory = '/home/thire399/Documents/School/DC-MasterThesis-2023/Data/Loss_chest_xray/'\n",
    "    os.chdir(directory)\n",
    "    train = torch.load('train_loss' + file + '.pt').tolist()\n",
    "    val = torch.load('val_loss' + file + '.pt').tolist()\n",
    "    print('min train accuracy {0}\\nmin val accuracy   {1}\\nAfter {2} epochs'.format(\n",
    "                    np.round(1-min(train),3 ),\n",
    "                    np.round(1-min(val), 3),\n",
    "                    val.index(min(val))))\n",
    "    return None"
   ]
  },
  {
   "attachments": {},
   "cell_type": "markdown",
   "metadata": {},
   "source": [
    "## Full Dataset"
   ]
  },
  {
   "attachments": {},
   "cell_type": "markdown",
   "metadata": {},
   "source": [
    "### 64x64"
   ]
  },
  {
   "attachments": {},
   "cell_type": "markdown",
   "metadata": {},
   "source": [
    "#### UNet"
   ]
  },
  {
   "cell_type": "code",
   "execution_count": 25,
   "metadata": {},
   "outputs": [
    {
     "name": "stdout",
     "output_type": "stream",
     "text": [
      "min train accuracy 0.441\n",
      "min val accuracy   0.443\n",
      "After 24 epochs\n"
     ]
    }
   ],
   "source": [
    "file = '64x64FullUNet20230329-015602'\n",
    "printScore(file)\n"
   ]
  },
  {
   "cell_type": "code",
   "execution_count": 12,
   "metadata": {},
   "outputs": [
    {
     "name": "stdout",
     "output_type": "stream",
     "text": [
      "min train loss: 0.869\n",
      "min val loss:   0.836\n",
      "After 44 epochs\n"
     ]
    }
   ],
   "source": [
    "file = '64x64ViraUNet20230316-171508'\n",
    "train = torch.load('train_loss' + file + '.pt').tolist()\n",
    "val = torch.load('val_loss' + file + '.pt').tolist()\n",
    "print('min train accuracy {0}\\nmin val accuracy   {1}\\nAfter {2} epochs'.format(\n",
    "                    np.round(1-min(train),3 ),\n",
    "                    np.round(1-min(val), 3),\n",
    "                    val.index(min(val))))\n"
   ]
  },
  {
   "cell_type": "code",
   "execution_count": 17,
   "metadata": {},
   "outputs": [
    {
     "name": "stdout",
     "output_type": "stream",
     "text": [
      "min train loss: 0.867\n",
      "min val loss:   0.768\n",
      "After 94 epochs\n"
     ]
    }
   ],
   "source": [
    "file = '64x64RandomUNet20230318-191122'\n",
    "train = torch.load('train_loss' + file + '.pt').tolist()\n",
    "val = torch.load('val_loss' + file + '.pt').tolist()\n",
    "print('min train accuracy {0}\\nmin val accuracy   {1}\\nAfter {2} epochs'.format(\n",
    "                    np.round(1-min(train),3 ),\n",
    "                    np.round(1-min(val), 3),\n",
    "                    val.index(min(val))))"
   ]
  },
  {
   "attachments": {},
   "cell_type": "markdown",
   "metadata": {},
   "source": [
    "#### Resnet"
   ]
  },
  {
   "cell_type": "code",
   "execution_count": 21,
   "metadata": {},
   "outputs": [
    {
     "name": "stdout",
     "output_type": "stream",
     "text": [
      "min train accuracy 0.515\n",
      "min val accuracy   0.507\n",
      "After 36 epochs\n"
     ]
    }
   ],
   "source": [
    "file = '64x64FullResNet20230329-013639'\n",
    "train = torch.load('train_loss' + file + '.pt').tolist()\n",
    "val = torch.load('val_loss' + file + '.pt').tolist()\n",
    "print('min train accuracy {0}\\nmin val accuracy   {1}\\nAfter {2} epochs'.format(\n",
    "                    np.round(1-min(train),3 ),\n",
    "                    np.round(1-min(val), 3),\n",
    "                    val.index(min(val))))\n"
   ]
  },
  {
   "cell_type": "code",
   "execution_count": 33,
   "metadata": {},
   "outputs": [
    {
     "name": "stdout",
     "output_type": "stream",
     "text": [
      "min train loss: 0.827\n",
      "min val loss:   0.812\n",
      "After 18 epochs\n"
     ]
    }
   ],
   "source": [
    "#file = '64x64VirusResnet50ResNet20230319-163758'#1\n",
    "file = '64x64VirusResnet50ResNet20230319-164004'#2\n",
    "#file = '64x64VirusResnet50ResNet20230319-164407'#3\n",
    "\n",
    "train = torch.load('train_loss' + file + '.pt').tolist()\n",
    "val = torch.load('val_loss' + file + '.pt').tolist()\n",
    "print('min train accuracy {0}\\nmin val accuracy   {1}\\nAfter {2} epochs'.format(\n",
    "                    np.round(1-min(train),3 ),\n",
    "                    np.round(1-min(val), 3),\n",
    "                    val.index(min(val))))"
   ]
  },
  {
   "cell_type": "code",
   "execution_count": 7,
   "metadata": {},
   "outputs": [
    {
     "name": "stdout",
     "output_type": "stream",
     "text": [
      "min train loss: 0.509\n",
      "min val loss:   0.514\n",
      "After 11 epochs\n"
     ]
    }
   ],
   "source": [
    "file = '64x64RandomResnet50ResNet20230319-171839'#3\n",
    "train = torch.load('train_loss' + file + '.pt').tolist()\n",
    "val = torch.load('val_loss' + file + '.pt').tolist()\n",
    "print('min train accuracy {0}\\nmin val accuracy   {1}\\nAfter {2} epochs'.format(\n",
    "                    np.round(1-min(train),3 ),\n",
    "                    np.round(1-min(val), 3),\n",
    "                    val.index(min(val))))"
   ]
  },
  {
   "attachments": {},
   "cell_type": "markdown",
   "metadata": {},
   "source": [
    "#### AlexNet"
   ]
  },
  {
   "cell_type": "code",
   "execution_count": 20,
   "metadata": {},
   "outputs": [
    {
     "name": "stdout",
     "output_type": "stream",
     "text": [
      "min train accuracy 0.736\n",
      "min val accuracy   0.748\n",
      "After 163 epochs\n"
     ]
    }
   ],
   "source": [
    "file = '64x64FullAlexNet20230329-012244'\n",
    "printScore(file)"
   ]
  },
  {
   "cell_type": "code",
   "execution_count": 15,
   "metadata": {},
   "outputs": [
    {
     "name": "stdout",
     "output_type": "stream",
     "text": [
      "min train accuracy 0.987\n",
      "min val accuracy   0.89\n",
      "After 30 epochs\n"
     ]
    }
   ],
   "source": [
    "file = '64x64ViraAlexNet20230319-200633'\n",
    "printScore(file)\n"
   ]
  },
  {
   "cell_type": "code",
   "execution_count": 16,
   "metadata": {},
   "outputs": [
    {
     "name": "stdout",
     "output_type": "stream",
     "text": [
      "min train accuracy 0.998\n",
      "min val accuracy   0.977\n",
      "After 98 epochs\n"
     ]
    }
   ],
   "source": [
    "file = '64x64RandomAlexNet20230319-200910'\n",
    "printScore(file)"
   ]
  },
  {
   "attachments": {},
   "cell_type": "markdown",
   "metadata": {},
   "source": [
    "### 128x128"
   ]
  },
  {
   "attachments": {},
   "cell_type": "markdown",
   "metadata": {},
   "source": [
    "#### UNet"
   ]
  },
  {
   "cell_type": "code",
   "execution_count": 17,
   "metadata": {},
   "outputs": [
    {
     "name": "stdout",
     "output_type": "stream",
     "text": [
      "min train accuracy 0.906\n",
      "min val accuracy   0.79\n",
      "After 13 epochs\n"
     ]
    }
   ],
   "source": [
    "file = '128x128FullUNet20230316-161241'\n",
    "printScore(file)"
   ]
  },
  {
   "cell_type": "code",
   "execution_count": 19,
   "metadata": {},
   "outputs": [
    {
     "name": "stdout",
     "output_type": "stream",
     "text": [
      "min train accuracy 0.884\n",
      "min val accuracy   0.798\n",
      "After 33 epochs\n"
     ]
    }
   ],
   "source": [
    "file = '128x128ViraUNet20230318-142253'\n",
    "printScore(file)"
   ]
  },
  {
   "cell_type": "code",
   "execution_count": 20,
   "metadata": {},
   "outputs": [
    {
     "name": "stdout",
     "output_type": "stream",
     "text": [
      "min train accuracy 0.914\n",
      "min val accuracy   0.721\n",
      "After 97 epochs\n"
     ]
    }
   ],
   "source": [
    "file = '128x128RandomUNet20230318-194051'\n",
    "printScore(file)"
   ]
  },
  {
   "attachments": {},
   "cell_type": "markdown",
   "metadata": {},
   "source": [
    "#### ResNet"
   ]
  },
  {
   "cell_type": "code",
   "execution_count": 21,
   "metadata": {},
   "outputs": [
    {
     "name": "stdout",
     "output_type": "stream",
     "text": [
      "min train accuracy 0.829\n",
      "min val accuracy   0.529\n",
      "After 8 epochs\n"
     ]
    }
   ],
   "source": [
    "file = '128x128FullResnet50ResNet20230316-164847'\n",
    "printScore(file)\n"
   ]
  },
  {
   "attachments": {},
   "cell_type": "markdown",
   "metadata": {},
   "source": [
    "#### AlexNet"
   ]
  },
  {
   "cell_type": "code",
   "execution_count": 36,
   "metadata": {},
   "outputs": [
    {
     "name": "stdout",
     "output_type": "stream",
     "text": [
      "min train accuracy 0.751\n",
      "min val accuracy   0.757\n",
      "After 176 epochs\n"
     ]
    }
   ],
   "source": [
    "file = '128x128FullAlexNet20230329-022218'\n",
    "printScore(file)"
   ]
  },
  {
   "cell_type": "code",
   "execution_count": 31,
   "metadata": {},
   "outputs": [
    {
     "name": "stdout",
     "output_type": "stream",
     "text": [
      "min train accuracy 0.972\n",
      "min val accuracy   0.958\n",
      "After 30 epochs\n"
     ]
    }
   ],
   "source": [
    "file = '128x128VirusAlexNet20230319-210638'\n",
    "printScore(file)"
   ]
  },
  {
   "cell_type": "code",
   "execution_count": 33,
   "metadata": {},
   "outputs": [
    {
     "name": "stdout",
     "output_type": "stream",
     "text": [
      "min train accuracy 0.931\n",
      "min val accuracy   0.824\n",
      "After 40 epochs\n"
     ]
    }
   ],
   "source": [
    "file = '128x128RandomAlexNet20230319-211018'\n",
    "printScore(file)"
   ]
  },
  {
   "attachments": {},
   "cell_type": "markdown",
   "metadata": {},
   "source": [
    "## Something Else"
   ]
  },
  {
   "cell_type": "code",
   "execution_count": 2,
   "metadata": {},
   "outputs": [
    {
     "name": "stdout",
     "output_type": "stream",
     "text": [
      "torch.Size([1, 64, 64])\n",
      "torch.Size([4172, 1, 64, 64])\n",
      "tensor([[[ 51.,  83., 106.,  ..., 117.,  97.,  70.],\n",
      "         [ 34.,  72.,  96.,  ..., 117.,  94.,  65.],\n",
      "         [ 26.,  67.,  93.,  ..., 116.,  92.,  60.],\n",
      "         ...,\n",
      "         [ 36.,  37.,  36.,  ...,  17.,  22.,  25.],\n",
      "         [ 36.,  37.,  36.,  ...,  18.,  22.,  25.],\n",
      "         [ 36.,  37.,  36.,  ...,  18.,  23.,  26.]]])\n"
     ]
    },
    {
     "data": {
      "image/png": "[encoded data removed]",
      "text/plain": [
       "<Figure size 640x480 with 1 Axes>"
      ]
     },
     "metadata": {},
     "output_type": "display_data"
    }
   ],
   "source": [
    "import torch \n",
    "import matplotlib.pyplot as plt\n",
    "import numpy as np\n",
    "import os\n",
    "directory = '/home/thire399/Documents/School/DC-MasterThesis-2023/Data'\n",
    "os.chdir(directory)\n",
    "data = torch.load('Proccesed/chest_xray/trainX.pt')\n",
    "print(data[0].shape)\n",
    "print(data.shape)\n",
    "print(data[0])\n",
    "plt.imshow(data[0][0], cmap = 'gray')\n",
    "\n",
    "plt.show()\n"
   ]
  },
  {
   "cell_type": "code",
   "execution_count": 32,
   "metadata": {},
   "outputs": [
    {
     "name": "stdout",
     "output_type": "stream",
     "text": [
      "Using:  cuda:0\n",
      "no model specified.\n",
      "Using last trained model: \"Data/Loss_chest_xray/model64x64FullAlexNet20230331-222454\"\n",
      "     ===> F-Score: [128/1044 (12%)]\t\n",
      "     ===> F-Score: [256/1044 (24%)]\t\n",
      "     ===> F-Score: [384/1044 (35%)]\t\n",
      "     ===> F-Score: [512/1044 (47%)]\t\n",
      "     ===> F-Score: [640/1044 (59%)]\t\n",
      "     ===> F-Score: [768/1044 (71%)]\t\n",
      "     ===> F-Score: [896/1044 (82%)]\t\n",
      "     ===> F-Score: [1024/1044 (94%)]\t\n",
      "Best Threshold=1.000000, F-Score=0.852\n",
      "Precision: 0.7423371647509579\n",
      "Recall: 1.0\n",
      "Threshold: 1 (not used)\n",
      "Accuracy on temp ValidationSet: 0.7423371647509579     --> (sum(Prediction = Target))/n_sampels\n",
      "Using:  cuda:0\n",
      "no model specified.\n",
      "Using last trained model: \"Data/Loss_chest_xray/model64x64FullAlexNet20230331-222454\"\n",
      "Best Threshold=1.000000, F-Score=0.667\n",
      "Precision: 0.5\n",
      "Recall: 1.0\n",
      "Threshold: 1 (not used)\n",
      "Accuracy on ValidationSet: 0.5     --> (sum(Prediction = Target))/n_sampels\n",
      "min train accuracy 0.357\n",
      "min val accuracy   0.358\n",
      "After 292 epochs\n"
     ]
    }
   ],
   "source": [
    "import Loop\n",
    "import torch.nn as nn\n",
    "from torchvision import models\n",
    "import Models as M\n",
    "import gc\n",
    "os.chdir('/home/thire399/Documents/School/DC-MasterThesis-2023')\n",
    "del model \n",
    "gc.collect()\n",
    "model = models.alexnet(pretrained = False)\n",
    "model.classifier[6] = nn.Linear(in_features=4096, out_features = 2, bias=True)\n",
    "#model = models.resnet50(pretrained = False)\n",
    "#model.fc = nn.Linear(in_features=2048, out_features = 2, bias=True)\n",
    "\n",
    "#model = M.UNet(enc_chs = (3, 64, 128, 256, 512, 1024)\n",
    "#               , dec_chs = (1024, 512, 256, 128, 64)\n",
    "#               , num_class = 1\n",
    "#               , df = 4096) # binary classification = 1.\n",
    "batch_size   = 64\n",
    "tempMOdel = \"Data/Loss_chest_xray/model128x128FullAlexNet20230329-022218\"\n",
    "#Data parameters\n",
    "dataSet      = 'chest_xray'\n",
    "datatype     = ''\n",
    "os.makedirs('Data/Loss_chest_xray/test', exist_ok = True)\n",
    "costumLabel  = '64x64Full'\n",
    "\n",
    "xVal = torch.load('Data/Proccesed/'+ dataSet + '/' + datatype +'tempValX.pt')\n",
    "yVal = torch.load('Data/Proccesed/'+ dataSet + '/' + datatype +'tempValY.pt')\n",
    "\n",
    "xVal = xVal.repeat(1, 3, 1, 1)     # only for pretrained model\n",
    "\n",
    "tempval_Set = torch.utils.data.TensorDataset(xVal, yVal)\n",
    "tempval_Loader = torch.utils.data.DataLoader(tempval_Set,\n",
    "                                        batch_size = batch_size,\n",
    "                                        shuffle = True,\n",
    "                                        num_workers = 0)\n",
    "p, t, fscore = Loop.eval_model(model = model\n",
    "                , dataset = dataSet\n",
    "                , dev = False\n",
    "                , val_Loader = tempval_Loader\n",
    "                #, model_filePath = tempMOdel\n",
    "                , size = costumLabel)\n",
    "\n",
    "print('Accuracy on temp ValidationSet: {0}     --> (sum(Prediction = Target))/n_sampels'.format(np.sum([p == t])/t.shape[0]))\n",
    "\n",
    "\n",
    "xVal = torch.load('Data/Proccesed/'+ dataSet + '/' + datatype +'valX.pt')\n",
    "yVal = torch.load('Data/Proccesed/'+ dataSet + '/' + datatype +'valY.pt')\n",
    "\n",
    "xVal = xVal.repeat(1, 3, 1, 1)     # only for pretrained model\n",
    "\n",
    "val_Set = torch.utils.data.TensorDataset(xVal, yVal)\n",
    "val_Loader = torch.utils.data.DataLoader(val_Set,\n",
    "                                        batch_size = batch_size,\n",
    "                                        shuffle = True,\n",
    "                                        num_workers = 0)\n",
    "\n",
    "\n",
    "p, t, fscore = Loop.eval_model(model = model\n",
    "                , dataset = dataSet\n",
    "                , dev = False\n",
    "                , val_Loader = val_Loader\n",
    "                #, model_filePath = tempMOdel\n",
    "                , size = costumLabel)\n",
    "\n",
    "\n",
    "print('Accuracy on ValidationSet: {0}     --> (sum(Prediction = Target))/n_sampels'.format(np.sum([p == t])/t.shape[0]))\n",
    "printScore('64x64FullAlexNet20230331-222454')\n",
    "\n"
   ]
  },
  {
   "cell_type": "code",
   "execution_count": 3,
   "metadata": {},
   "outputs": [
    {
     "name": "stdout",
     "output_type": "stream",
     "text": [
      "The training of models in this work is estimated to use 0.000 kWh of electricity contributing to 0.000 kg of CO2eq. This is equivalent to 0.000 km travelled by car. Measured by carbontracker (https://github.com/lfwa/carbontracker).\n"
     ]
    },
    {
     "ename": "KeyError",
     "evalue": "'cpu'",
     "output_type": "error",
     "traceback": [
      "\u001b[0;31m---------------------------------------------------------------------------\u001b[0m",
      "\u001b[0;31mKeyError\u001b[0m                                  Traceback (most recent call last)",
      "Cell \u001b[0;32mIn[3], line 8\u001b[0m\n\u001b[1;32m      4\u001b[0m os\u001b[39m.\u001b[39mchdir(directory)\n\u001b[1;32m      7\u001b[0m parser\u001b[39m.\u001b[39mprint_aggregate(log_dir\u001b[39m=\u001b[39m \u001b[39m'\u001b[39m\u001b[39mData/Loss_\u001b[39m\u001b[39m'\u001b[39m \u001b[39m+\u001b[39m dataSet \u001b[39m+\u001b[39m \u001b[39m'\u001b[39m\u001b[39m/test/CarbonLogs\u001b[39m\u001b[39m'\u001b[39m)\n\u001b[0;32m----> 8\u001b[0m logs \u001b[39m=\u001b[39m parser\u001b[39m.\u001b[39;49mparse_all_logs(log_dir \u001b[39m=\u001b[39;49m \u001b[39m'\u001b[39;49m\u001b[39mData/Loss_\u001b[39;49m\u001b[39m'\u001b[39;49m \u001b[39m+\u001b[39;49m dataSet \u001b[39m+\u001b[39;49m \u001b[39m'\u001b[39;49m\u001b[39m/test/CarbonLogs\u001b[39;49m\u001b[39m'\u001b[39;49m)\n\u001b[1;32m      9\u001b[0m first_log \u001b[39m=\u001b[39m logs[\u001b[39m0\u001b[39m]\n\u001b[1;32m     10\u001b[0m \u001b[39mprint\u001b[39m(\u001b[39mf\u001b[39m\u001b[39m\"\u001b[39m\u001b[39mOutput file name: \u001b[39m\u001b[39m{\u001b[39;00mfirst_log[\u001b[39m'\u001b[39m\u001b[39moutput_filename\u001b[39m\u001b[39m'\u001b[39m]\u001b[39m}\u001b[39;00m\u001b[39m\"\u001b[39m)\n",
      "File \u001b[0;32m~/.local/lib/python3.10/site-packages/carbontracker/parser.py:25\u001b[0m, in \u001b[0;36mparse_all_logs\u001b[0;34m(log_dir)\u001b[0m\n\u001b[1;32m     20\u001b[0m     actual, pred \u001b[39m=\u001b[39m get_consumption(output_log_data)\n\u001b[1;32m     21\u001b[0m     early_stop \u001b[39m=\u001b[39m get_early_stop(std_log_data)\n\u001b[1;32m     22\u001b[0m     entry \u001b[39m=\u001b[39m {\n\u001b[1;32m     23\u001b[0m         \u001b[39m\"\u001b[39m\u001b[39moutput_filename\u001b[39m\u001b[39m\"\u001b[39m: out,\n\u001b[1;32m     24\u001b[0m         \u001b[39m\"\u001b[39m\u001b[39mstandard_filename\u001b[39m\u001b[39m\"\u001b[39m: std,\n\u001b[0;32m---> 25\u001b[0m         \u001b[39m\"\u001b[39m\u001b[39mcomponents\u001b[39m\u001b[39m\"\u001b[39m: parse_logs(log_dir, std, out),\n\u001b[1;32m     26\u001b[0m         \u001b[39m\"\u001b[39m\u001b[39mearly_stop\u001b[39m\u001b[39m\"\u001b[39m: early_stop,\n\u001b[1;32m     27\u001b[0m         \u001b[39m\"\u001b[39m\u001b[39mactual\u001b[39m\u001b[39m\"\u001b[39m: actual,\n\u001b[1;32m     28\u001b[0m         \u001b[39m\"\u001b[39m\u001b[39mpred\u001b[39m\u001b[39m\"\u001b[39m: pred,\n\u001b[1;32m     29\u001b[0m     }\n\u001b[1;32m     30\u001b[0m     logs\u001b[39m.\u001b[39mappend(entry)\n\u001b[1;32m     32\u001b[0m \u001b[39mreturn\u001b[39;00m logs\n",
      "File \u001b[0;32m~/.local/lib/python3.10/site-packages/carbontracker/parser.py:49\u001b[0m, in \u001b[0;36mparse_logs\u001b[0;34m(log_dir, std_log_file, output_log_file)\u001b[0m\n\u001b[1;32m     47\u001b[0m components \u001b[39m=\u001b[39m {}\n\u001b[1;32m     48\u001b[0m \u001b[39mfor\u001b[39;00m comp, devices \u001b[39min\u001b[39;00m devices\u001b[39m.\u001b[39mitems():\n\u001b[0;32m---> 49\u001b[0m     power_usages \u001b[39m=\u001b[39m np\u001b[39m.\u001b[39marray(avg_power_usages[comp]) \u001b[39mif\u001b[39;00m \u001b[39mlen\u001b[39m(avg_power_usages) \u001b[39m!=\u001b[39m \u001b[39m0\u001b[39m \u001b[39melse\u001b[39;00m \u001b[39mNone\u001b[39;00m\n\u001b[1;32m     50\u001b[0m     durations \u001b[39m=\u001b[39m np\u001b[39m.\u001b[39marray(epoch_durations) \u001b[39mif\u001b[39;00m \u001b[39mlen\u001b[39m(epoch_durations) \u001b[39m!=\u001b[39m \u001b[39m0\u001b[39m \u001b[39melse\u001b[39;00m \u001b[39mNone\u001b[39;00m\n\u001b[1;32m     51\u001b[0m     \u001b[39mif\u001b[39;00m power_usages \u001b[39mis\u001b[39;00m \u001b[39mNone\u001b[39;00m \u001b[39mor\u001b[39;00m durations \u001b[39mis\u001b[39;00m \u001b[39mNone\u001b[39;00m:\n",
      "\u001b[0;31mKeyError\u001b[0m: 'cpu'"
     ]
    }
   ],
   "source": [
    "from carbontracker import parser\n",
    "dataSet      = 'chest_xray'\n",
    "directory = '/home/thire399/Documents/School/DC-MasterThesis-2023'\n",
    "os.chdir(directory)\n",
    "\n",
    "\n",
    "parser.print_aggregate(log_dir= 'Data/Loss_' + dataSet + '/test/CarbonLogs')\n",
    "logs = parser.parse_all_logs(log_dir = 'Data/Loss_' + dataSet + '/test/CarbonLogs')\n",
    "first_log = logs[0]\n",
    "print(f\"Output file name: {first_log['output_filename']}\")\n",
    "print(f\"Standard file name: {first_log['standard_filename']}\")\n",
    "print(f\"Stopped early: {first_log['early_stop']}\")\n",
    "print(f\"Measured consumption: {first_log['actual']}\")\n",
    "print(f\"Predicted consumption: {first_log['pred']}\")\n",
    "print(f\"Measured GPU devices: {first_log['components']['gpu']['devices']}\")"
   ]
  },
  {
   "cell_type": "code",
   "execution_count": 20,
   "metadata": {},
   "outputs": [
    {
     "name": "stdout",
     "output_type": "stream",
     "text": [
      "preparing training data...\n",
      "iteration 20/1341\n",
      "tensor(0.9137) tensor(0.)\n",
      "tensor(0.9176) tensor(0.)\n",
      "tensor(0.8667) tensor(0.)\n",
      "tensor(0.9294) tensor(0.)\n",
      "tensor(0.9176) tensor(0.)\n",
      "tensor(0.9608) tensor(0.)\n",
      "tensor(0.9451) tensor(0.)\n",
      "tensor(0.9804) tensor(0.)\n",
      "tensor(0.8588) tensor(0.)\n",
      "tensor(0.8980) tensor(0.)\n",
      "tensor(0.8039) tensor(0.)\n",
      "tensor(0.9843) tensor(0.)\n",
      "tensor(0.9686) tensor(0.)\n",
      "tensor(0.9451) tensor(0.)\n",
      "tensor(0.9373) tensor(0.)\n",
      "tensor(0.9059) tensor(0.)\n",
      "tensor(0.8314) tensor(0.)\n",
      "tensor(0.9216) tensor(0.)\n",
      "tensor(0.8980) tensor(0.)\n",
      "tensor(0.8941) tensor(0.)\n"
     ]
    }
   ],
   "source": [
    "''' Data processing file '''\n",
    "import numpy as np\n",
    "import matplotlib.pyplot as plt\n",
    "import os \n",
    "import shutil\n",
    "import torch\n",
    "import CoreSet_Selection as CS\n",
    "from PIL import Image\n",
    "import gc\n",
    "import re\n",
    "from sklearn.model_selection import train_test_split\n",
    "# Change for your own file path. Should only need to change this path. all other paths should be fine as is.!!\n",
    "\n",
    "# TODO: update function description to standard.\n",
    "directory = '/home/thire399/Documents/School/DC-MasterThesis-2023/Data'\n",
    "os.chdir(directory)\n",
    "trainSize = 400\n",
    "valSize = 100\n",
    "imgSize = (64, 64)\n",
    "vira = False\n",
    "\n",
    "\n",
    "#Dataset to create\n",
    "createANew = True\n",
    "generateRandom = False\n",
    "generateDistriution = False\n",
    "\n",
    "\n",
    "#function to get all file names in the folder.\n",
    "def GetFileNames(path = 'None', isVira = False):\n",
    "    try:\n",
    "        if isVira:\n",
    "            return [os.path.join(path, file) for file in os.listdir(path) if re.search('_virus_', file)]\n",
    "        else:\n",
    "            return [os.path.join(path, file) for file in os.listdir(path)]\n",
    "    except:\n",
    "        print('Path \"{0}\" Not found'.format(path))\n",
    "\n",
    "def MoveFiles(fileNames, source, destination):\n",
    "    # Note copy has odd behaviour. - Depricated -> Now using \"SaveToTensor\"\n",
    "    #Removes all content in folder first\n",
    "    for f in os.listdir(destination):\n",
    "        os.remove(os.path.join(destination, f))\n",
    "    # copys the files in the original folder to the new folder\n",
    "    for f in fileNames:\n",
    "        src_path = os.path.join(source, f)\n",
    "        dst_path = os.path.join(destination, f)\n",
    "        shutil.copy(src_path, dst_path)\n",
    "    print('moved all files to \"{0}\"'.format(destination))\n",
    "    return None\n",
    "\n",
    "def SaveToTensor(images, h = 32, w = 32):\n",
    "    ''' should take in a image and resize it tot h x w (keep layers?). TODO: update description'''\n",
    "    imgList = []\n",
    "    k = 0\n",
    "    for i in images:\n",
    "        if k % 50 == 20:\n",
    "            print(f'iteration {k}/{len(images)}')\n",
    "            break\n",
    "        img = Image.open(i)\n",
    "        newImg = np.array(img.resize((h, w)).convert('L')).astype(np.float32)/255#resizes and converts to grayscale\n",
    "        #, Image.ANTIALIAS) #'Provides smothing' should not perform this probably.\n",
    "        imgList.append(torch.unsqueeze(torch.from_numpy(newImg), 0)) # ndarray -> tensor and adding 1 dimension (C x H x W)\n",
    "        k += 1\n",
    "    return torch.stack(imgList)\n",
    "print('preparing training data...')\n",
    "#Train data\n",
    "normal = GetFileNames('UnProccesed/chest_xray/train/NORMAL')\n",
    "normalTensor = SaveToTensor(normal, imgSize[0], imgSize[1])\n",
    "for i in range(normalTensor.shape[0]):\n",
    "    print(normalTensor[i].max(),normalTensor[0].min())"
   ]
  }
 ],
 "metadata": {
  "kernelspec": {
   "display_name": "Python 3",
   "language": "python",
   "name": "python3"
  },
  "language_info": {
   "codemirror_mode": {
    "name": "ipython",
    "version": 3
   },
   "file_extension": ".py",
   "mimetype": "text/x-python",
   "name": "python",
   "nbconvert_exporter": "python",
   "pygments_lexer": "ipython3",
   "version": "3.10.6"
  },
  "orig_nbformat": 4
 },
 "nbformat": 4,
 "nbformat_minor": 2
}
