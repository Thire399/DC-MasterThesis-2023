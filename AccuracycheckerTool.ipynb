{
 "cells": [
  {
   "cell_type": "code",
   "execution_count": 5,
   "metadata": {},
   "outputs": [],
   "source": [
    "import torch\n",
    "import numpy as np\n",
    "import os\n"
   ]
  },
  {
   "cell_type": "code",
   "execution_count": 6,
   "metadata": {},
   "outputs": [],
   "source": [
    "def printScore(file):\n",
    "    directory = '/home/thire399/Documents/School/DC-MasterThesis-2023/Data/Loss_chest_xray/'\n",
    "    os.chdir(directory)\n",
    "    train = torch.load('train_loss' + file + '.pt').tolist()\n",
    "    val = torch.load('val_loss' + file + '.pt').tolist()\n",
    "    print('min train accuracy {0}\\nmin val accuracy   {1}\\nAfter {2} epochs'.format(\n",
    "                    np.round(1-min(train),3 ),\n",
    "                    np.round(1-min(val), 3),\n",
    "                    val.index(min(val))))\n",
    "    return None"
   ]
  },
  {
   "attachments": {},
   "cell_type": "markdown",
   "metadata": {},
   "source": [
    "## Full Dataset"
   ]
  },
  {
   "attachments": {},
   "cell_type": "markdown",
   "metadata": {},
   "source": [
    "### 64x64"
   ]
  },
  {
   "attachments": {},
   "cell_type": "markdown",
   "metadata": {},
   "source": [
    "#### UNet"
   ]
  },
  {
   "cell_type": "code",
   "execution_count": 25,
   "metadata": {},
   "outputs": [
    {
     "name": "stdout",
     "output_type": "stream",
     "text": [
      "min train accuracy 0.441\n",
      "min val accuracy   0.443\n",
      "After 24 epochs\n"
     ]
    }
   ],
   "source": [
    "file = '64x64FullUNet20230329-015602'\n",
    "printScore(file)\n"
   ]
  },
  {
   "cell_type": "code",
   "execution_count": 12,
   "metadata": {},
   "outputs": [
    {
     "name": "stdout",
     "output_type": "stream",
     "text": [
      "min train loss: 0.869\n",
      "min val loss:   0.836\n",
      "After 44 epochs\n"
     ]
    }
   ],
   "source": [
    "file = '64x64ViraUNet20230316-171508'\n",
    "train = torch.load('train_loss' + file + '.pt').tolist()\n",
    "val = torch.load('val_loss' + file + '.pt').tolist()\n",
    "print('min train accuracy {0}\\nmin val accuracy   {1}\\nAfter {2} epochs'.format(\n",
    "                    np.round(1-min(train),3 ),\n",
    "                    np.round(1-min(val), 3),\n",
    "                    val.index(min(val))))\n"
   ]
  },
  {
   "cell_type": "code",
   "execution_count": 17,
   "metadata": {},
   "outputs": [
    {
     "name": "stdout",
     "output_type": "stream",
     "text": [
      "min train loss: 0.867\n",
      "min val loss:   0.768\n",
      "After 94 epochs\n"
     ]
    }
   ],
   "source": [
    "file = '64x64RandomUNet20230318-191122'\n",
    "train = torch.load('train_loss' + file + '.pt').tolist()\n",
    "val = torch.load('val_loss' + file + '.pt').tolist()\n",
    "print('min train accuracy {0}\\nmin val accuracy   {1}\\nAfter {2} epochs'.format(\n",
    "                    np.round(1-min(train),3 ),\n",
    "                    np.round(1-min(val), 3),\n",
    "                    val.index(min(val))))"
   ]
  },
  {
   "attachments": {},
   "cell_type": "markdown",
   "metadata": {},
   "source": [
    "#### Resnet"
   ]
  },
  {
   "cell_type": "code",
   "execution_count": 21,
   "metadata": {},
   "outputs": [
    {
     "name": "stdout",
     "output_type": "stream",
     "text": [
      "min train accuracy 0.515\n",
      "min val accuracy   0.507\n",
      "After 36 epochs\n"
     ]
    }
   ],
   "source": [
    "file = '64x64FullResNet20230329-013639'\n",
    "train = torch.load('train_loss' + file + '.pt').tolist()\n",
    "val = torch.load('val_loss' + file + '.pt').tolist()\n",
    "print('min train accuracy {0}\\nmin val accuracy   {1}\\nAfter {2} epochs'.format(\n",
    "                    np.round(1-min(train),3 ),\n",
    "                    np.round(1-min(val), 3),\n",
    "                    val.index(min(val))))\n"
   ]
  },
  {
   "cell_type": "code",
   "execution_count": 33,
   "metadata": {},
   "outputs": [
    {
     "name": "stdout",
     "output_type": "stream",
     "text": [
      "min train loss: 0.827\n",
      "min val loss:   0.812\n",
      "After 18 epochs\n"
     ]
    }
   ],
   "source": [
    "#file = '64x64VirusResnet50ResNet20230319-163758'#1\n",
    "file = '64x64VirusResnet50ResNet20230319-164004'#2\n",
    "#file = '64x64VirusResnet50ResNet20230319-164407'#3\n",
    "\n",
    "train = torch.load('train_loss' + file + '.pt').tolist()\n",
    "val = torch.load('val_loss' + file + '.pt').tolist()\n",
    "print('min train accuracy {0}\\nmin val accuracy   {1}\\nAfter {2} epochs'.format(\n",
    "                    np.round(1-min(train),3 ),\n",
    "                    np.round(1-min(val), 3),\n",
    "                    val.index(min(val))))"
   ]
  },
  {
   "cell_type": "code",
   "execution_count": 7,
   "metadata": {},
   "outputs": [
    {
     "name": "stdout",
     "output_type": "stream",
     "text": [
      "min train loss: 0.509\n",
      "min val loss:   0.514\n",
      "After 11 epochs\n"
     ]
    }
   ],
   "source": [
    "file = '64x64RandomResnet50ResNet20230319-171839'#3\n",
    "train = torch.load('train_loss' + file + '.pt').tolist()\n",
    "val = torch.load('val_loss' + file + '.pt').tolist()\n",
    "print('min train accuracy {0}\\nmin val accuracy   {1}\\nAfter {2} epochs'.format(\n",
    "                    np.round(1-min(train),3 ),\n",
    "                    np.round(1-min(val), 3),\n",
    "                    val.index(min(val))))"
   ]
  },
  {
   "attachments": {},
   "cell_type": "markdown",
   "metadata": {},
   "source": [
    "#### AlexNet"
   ]
  },
  {
   "cell_type": "code",
   "execution_count": 20,
   "metadata": {},
   "outputs": [
    {
     "name": "stdout",
     "output_type": "stream",
     "text": [
      "min train accuracy 0.736\n",
      "min val accuracy   0.748\n",
      "After 163 epochs\n"
     ]
    }
   ],
   "source": [
    "file = '64x64FullAlexNet20230329-012244'\n",
    "printScore(file)"
   ]
  },
  {
   "cell_type": "code",
   "execution_count": 15,
   "metadata": {},
   "outputs": [
    {
     "name": "stdout",
     "output_type": "stream",
     "text": [
      "min train accuracy 0.987\n",
      "min val accuracy   0.89\n",
      "After 30 epochs\n"
     ]
    }
   ],
   "source": [
    "file = '64x64ViraAlexNet20230319-200633'\n",
    "printScore(file)\n"
   ]
  },
  {
   "cell_type": "code",
   "execution_count": 16,
   "metadata": {},
   "outputs": [
    {
     "name": "stdout",
     "output_type": "stream",
     "text": [
      "min train accuracy 0.998\n",
      "min val accuracy   0.977\n",
      "After 98 epochs\n"
     ]
    }
   ],
   "source": [
    "file = '64x64RandomAlexNet20230319-200910'\n",
    "printScore(file)"
   ]
  },
  {
   "attachments": {},
   "cell_type": "markdown",
   "metadata": {},
   "source": [
    "### 128x128"
   ]
  },
  {
   "attachments": {},
   "cell_type": "markdown",
   "metadata": {},
   "source": [
    "#### UNet"
   ]
  },
  {
   "cell_type": "code",
   "execution_count": 17,
   "metadata": {},
   "outputs": [
    {
     "name": "stdout",
     "output_type": "stream",
     "text": [
      "min train accuracy 0.906\n",
      "min val accuracy   0.79\n",
      "After 13 epochs\n"
     ]
    }
   ],
   "source": [
    "file = '128x128FullUNet20230316-161241'\n",
    "printScore(file)"
   ]
  },
  {
   "cell_type": "code",
   "execution_count": 19,
   "metadata": {},
   "outputs": [
    {
     "name": "stdout",
     "output_type": "stream",
     "text": [
      "min train accuracy 0.884\n",
      "min val accuracy   0.798\n",
      "After 33 epochs\n"
     ]
    }
   ],
   "source": [
    "file = '128x128ViraUNet20230318-142253'\n",
    "printScore(file)"
   ]
  },
  {
   "cell_type": "code",
   "execution_count": 20,
   "metadata": {},
   "outputs": [
    {
     "name": "stdout",
     "output_type": "stream",
     "text": [
      "min train accuracy 0.914\n",
      "min val accuracy   0.721\n",
      "After 97 epochs\n"
     ]
    }
   ],
   "source": [
    "file = '128x128RandomUNet20230318-194051'\n",
    "printScore(file)"
   ]
  },
  {
   "attachments": {},
   "cell_type": "markdown",
   "metadata": {},
   "source": [
    "#### ResNet"
   ]
  },
  {
   "cell_type": "code",
   "execution_count": 21,
   "metadata": {},
   "outputs": [
    {
     "name": "stdout",
     "output_type": "stream",
     "text": [
      "min train accuracy 0.829\n",
      "min val accuracy   0.529\n",
      "After 8 epochs\n"
     ]
    }
   ],
   "source": [
    "file = '128x128FullResnet50ResNet20230316-164847'\n",
    "printScore(file)\n"
   ]
  },
  {
   "attachments": {},
   "cell_type": "markdown",
   "metadata": {},
   "source": [
    "#### AlexNet"
   ]
  },
  {
   "cell_type": "code",
   "execution_count": 36,
   "metadata": {},
   "outputs": [
    {
     "name": "stdout",
     "output_type": "stream",
     "text": [
      "min train accuracy 0.751\n",
      "min val accuracy   0.757\n",
      "After 176 epochs\n"
     ]
    }
   ],
   "source": [
    "file = '128x128FullAlexNet20230329-022218'\n",
    "printScore(file)"
   ]
  },
  {
   "cell_type": "code",
   "execution_count": 31,
   "metadata": {},
   "outputs": [
    {
     "name": "stdout",
     "output_type": "stream",
     "text": [
      "min train accuracy 0.972\n",
      "min val accuracy   0.958\n",
      "After 30 epochs\n"
     ]
    }
   ],
   "source": [
    "file = '128x128VirusAlexNet20230319-210638'\n",
    "printScore(file)"
   ]
  },
  {
   "cell_type": "code",
   "execution_count": 33,
   "metadata": {},
   "outputs": [
    {
     "name": "stdout",
     "output_type": "stream",
     "text": [
      "min train accuracy 0.931\n",
      "min val accuracy   0.824\n",
      "After 40 epochs\n"
     ]
    }
   ],
   "source": [
    "file = '128x128RandomAlexNet20230319-211018'\n",
    "printScore(file)"
   ]
  },
  {
   "attachments": {},
   "cell_type": "markdown",
   "metadata": {},
   "source": [
    "## Something Else"
   ]
  },
  {
   "cell_type": "code",
   "execution_count": 6,
   "metadata": {},
   "outputs": [
    {
     "name": "stdout",
     "output_type": "stream",
     "text": [
      "label 1\n",
      "torch.Size([1, 64, 64])\n",
      "torch.Size([640, 1, 64, 64])\n",
      "tensor([[[  0.,  62.,  79.,  ...,   8.,  11.,   8.],\n",
      "         [  1.,  68., 162.,  ...,   0.,   0.,   0.],\n",
      "         [  2.,  62.,  86.,  ...,   0.,   0.,   4.],\n",
      "         ...,\n",
      "         [  0.,   0.,   1.,  ...,   0.,   0.,   0.],\n",
      "         [  4.,   0.,   1.,  ...,   0.,   0.,   4.],\n",
      "         [  1.,   0.,   1.,  ...,   0.,   0.,   1.]]])\n"
     ]
    },
    {
     "data": {
      "image/png": "[encoded data removed]",
      "text/plain": [
       "<Figure size 640x480 with 1 Axes>"
      ]
     },
     "metadata": {},
     "output_type": "display_data"
    }
   ],
   "source": [
    "import torch \n",
    "import matplotlib.pyplot as plt\n",
    "import numpy as np\n",
    "import os\n",
    "index = 0\n",
    "directory = '/home/thire399/Documents/School/DC-MasterThesis-2023/Data'\n",
    "os.chdir(directory)\n",
    "data = torch.load('Proccesed/chest_xray/RandomtrainX.pt')\n",
    "y = torch.load('Proccesed/chest_xray/RandomtrainY.pt')\n",
    "print(f'label {y[index]}')\n",
    "print(data[index].shape)\n",
    "print(data.shape)\n",
    "print(data[index])\n",
    "plt.imshow(data[0][0], cmap = 'gray')\n",
    "\n",
    "plt.show()\n"
   ]
  },
  {
   "cell_type": "code",
   "execution_count": 31,
   "metadata": {},
   "outputs": [
    {
     "name": "stdout",
     "output_type": "stream",
     "text": [
      "Using:  cuda:0\n",
      "Model specified.\n",
      "Using trained model: \"Data/Loss_chest_xray/model64x64RandomUNet20230403-191445\"\n",
      "     ===> F-Score: [112/120 (100%)]\t\n",
      "Best Threshold=0.000000, F-Score=0.667\n",
      "Precision: 0.5\n",
      "Recall: 1.0\n",
      "Threshold: 0 (not used)\n",
      "Accuracy on temp ValidationSet: 0.5     --> (sum(Prediction = Target))/n_sampels\n",
      "Using:  cuda:0\n",
      "Model specified.\n",
      "Using trained model: \"Data/Loss_chest_xray/model64x64RandomUNet20230403-191445\"\n",
      "Best Threshold=0.000000, F-Score=0.667\n",
      "Precision: 0.5\n",
      "Recall: 1.0\n",
      "Threshold: 0 (not used)\n",
      "Accuracy on ValidationSet: 0.5     --> (sum(Prediction = Target))/n_sampels\n",
      "min train accuracy 0.307\n",
      "min val accuracy   0.306\n",
      "After 36 epochs\n"
     ]
    }
   ],
   "source": [
    "import Loop\n",
    "import torch.nn as nn\n",
    "from torchvision import models\n",
    "import Models as M\n",
    "import gc\n",
    "os.chdir('/home/thire399/Documents/School/DC-MasterThesis-2023')\n",
    "del model \n",
    "gc.collect()\n",
    "#model = models.alexnet(pretrained = False)\n",
    "#model.classifier[6] = nn.Linear(in_features=4096, out_features = 2, bias=True)\n",
    "#model = models.resnet50(pretrained = False)\n",
    "#model.fc = nn.Linear(in_features=2048, out_features = 2, bias=True)\n",
    "\n",
    "model = M.UNet(enc_chs = (3, 64, 128, 256, 512, 1024)\n",
    "               , dec_chs = (1024, 512, 256, 128, 64)\n",
    "               , num_class = 1\n",
    "               , df = 4096) # binary classification = 1.\n",
    "batch_size   = 64\n",
    "tempMOdel = \"Data/Loss_chest_xray/model64x64RandomUNet20230403-191445\"\n",
    "#Data parameters\n",
    "dataSet      = 'chest_xray'\n",
    "datatype     = 'Random'\n",
    "os.makedirs('Data/Loss_chest_xray/test', exist_ok = True)\n",
    "costumLabel  = '64x64Full'\n",
    "\n",
    "xVal = torch.load('Data/Proccesed/'+ dataSet + '/' + datatype +'tempValX.pt')\n",
    "yVal = torch.load('Data/Proccesed/'+ dataSet + '/' + datatype +'tempValY.pt')\n",
    "\n",
    "xVal = xVal.repeat(1, 3, 1, 1)     # only for pretrained model\n",
    "\n",
    "tempval_Set = torch.utils.data.TensorDataset(xVal, yVal)\n",
    "tempval_Loader = torch.utils.data.DataLoader(tempval_Set,\n",
    "                                        batch_size = batch_size,\n",
    "                                        shuffle = True,\n",
    "                                        num_workers = 0)\n",
    "p, t, fscore = Loop.eval_model(model = model\n",
    "                , dataset = dataSet\n",
    "                , dev = False\n",
    "                , val_Loader = tempval_Loader\n",
    "                , model_filePath = tempMOdel\n",
    "                , size = costumLabel)\n",
    "\n",
    "print('Accuracy on temp ValidationSet: {0}     --> (sum(Prediction = Target))/n_sampels'.format(np.sum([p == t])/t.shape[0]))\n",
    "\n",
    "\n",
    "xVal = torch.load('Data/Proccesed/'+ dataSet + '/valX.pt')\n",
    "yVal = torch.load('Data/Proccesed/'+ dataSet + '/valY.pt')\n",
    "\n",
    "xVal = xVal.repeat(1, 3, 1, 1)     # only for pretrained model\n",
    "\n",
    "val_Set = torch.utils.data.TensorDataset(xVal, yVal)\n",
    "val_Loader = torch.utils.data.DataLoader(val_Set,\n",
    "                                        batch_size = batch_size,\n",
    "                                        shuffle = True,\n",
    "                                        num_workers = 0)\n",
    "\n",
    "\n",
    "p, t, fscore = Loop.eval_model(model = model\n",
    "                , dataset = dataSet\n",
    "                , dev = False\n",
    "                , val_Loader = val_Loader\n",
    "                , model_filePath = tempMOdel\n",
    "                , size = costumLabel)\n",
    "\n",
    "\n",
    "\n",
    "print('Accuracy on ValidationSet: {0}     --> (sum(Prediction = Target))/n_sampels'.format(np.sum([p == t])/t.shape[0]))\n",
    "printScore('64x64RandomUNet20230403-191445')\n"
   ]
  },
  {
   "cell_type": "code",
   "execution_count": 29,
   "metadata": {},
   "outputs": [
    {
     "name": "stdout",
     "output_type": "stream",
     "text": [
      "The training of models in this work is estimated to use 0.054 kWh of electricity contributing to 0.004 kg of CO2eq. This is equivalent to 0.039 km travelled by car. Measured by carbontracker (https://github.com/lfwa/carbontracker).\n",
      "Output file name: Data/Loss_chest_xray/CarbonLogs/64x64RandomUNet_17135_2023-04-03T191445Z_carbontracker_output.log\n",
      "Standard file name: Data/Loss_chest_xray/CarbonLogs/64x64RandomUNet_17135_2023-04-03T191445Z_carbontracker.log\n",
      "Stopped early: True\n",
      "Measured consumption: {'epochs': 46, 'duration (s)': 149.0, 'energy (kWh)': 0.00382, 'co2eq (g)': 0.343831, 'equivalents': {'km travelled by car': 0.003198}}\n",
      "Predicted consumption: {'epochs': 400, 'duration (s)': 1649.0, 'energy (kWh)': 0.038144, 'co2eq (g)': 4.144998, 'equivalents': {'km travelled by car': 0.038558}}\n",
      "Measured GPU devices: ['NVIDIA GeForce RTX 3070 Laptop GPU']\n"
     ]
    }
   ],
   "source": [
    "from carbontracker import parser\n",
    "dataSet      = 'chest_xray'\n",
    "directory = '/home/thire399/Documents/School/DC-MasterThesis-2023'\n",
    "os.chdir(directory)\n",
    "\n",
    "\n",
    "parser.print_aggregate(log_dir= 'Data/Loss_' + dataSet + '/CarbonLogs')\n",
    "logs = parser.parse_all_logs(log_dir = 'Data/Loss_' + dataSet + '/CarbonLogs')\n",
    "first_log = logs[5]\n",
    "print(f\"Output file name: {first_log['output_filename']}\")\n",
    "print(f\"Standard file name: {first_log['standard_filename']}\")\n",
    "print(f\"Stopped early: {first_log['early_stop']}\")\n",
    "print(f\"Measured consumption: {first_log['actual']}\")\n",
    "print(f\"Predicted consumption: {first_log['pred']}\")\n",
    "print(f\"Measured GPU devices: {first_log['components']['gpu']['devices']}\")"
   ]
  },
  {
   "cell_type": "code",
   "execution_count": 20,
   "metadata": {},
   "outputs": [
    {
     "name": "stdout",
     "output_type": "stream",
     "text": [
      "preparing training data...\n",
      "iteration 20/1341\n",
      "tensor(0.9137) tensor(0.)\n",
      "tensor(0.9176) tensor(0.)\n",
      "tensor(0.8667) tensor(0.)\n",
      "tensor(0.9294) tensor(0.)\n",
      "tensor(0.9176) tensor(0.)\n",
      "tensor(0.9608) tensor(0.)\n",
      "tensor(0.9451) tensor(0.)\n",
      "tensor(0.9804) tensor(0.)\n",
      "tensor(0.8588) tensor(0.)\n",
      "tensor(0.8980) tensor(0.)\n",
      "tensor(0.8039) tensor(0.)\n",
      "tensor(0.9843) tensor(0.)\n",
      "tensor(0.9686) tensor(0.)\n",
      "tensor(0.9451) tensor(0.)\n",
      "tensor(0.9373) tensor(0.)\n",
      "tensor(0.9059) tensor(0.)\n",
      "tensor(0.8314) tensor(0.)\n",
      "tensor(0.9216) tensor(0.)\n",
      "tensor(0.8980) tensor(0.)\n",
      "tensor(0.8941) tensor(0.)\n"
     ]
    }
   ],
   "source": [
    "''' Data processing file '''\n",
    "import numpy as np\n",
    "import matplotlib.pyplot as plt\n",
    "import os \n",
    "import shutil\n",
    "import torch\n",
    "import CoreSet_Selection as CS\n",
    "from PIL import Image\n",
    "import gc\n",
    "import re\n",
    "from sklearn.model_selection import train_test_split\n",
    "# Change for your own file path. Should only need to change this path. all other paths should be fine as is.!!\n",
    "\n",
    "# TODO: update function description to standard.\n",
    "directory = '/home/thire399/Documents/School/DC-MasterThesis-2023/Data'\n",
    "os.chdir(directory)\n",
    "trainSize = 400\n",
    "valSize = 100\n",
    "imgSize = (64, 64)\n",
    "vira = False\n",
    "\n",
    "\n",
    "#Dataset to create\n",
    "createANew = True\n",
    "generateRandom = False\n",
    "generateDistriution = False\n",
    "\n",
    "\n",
    "#function to get all file names in the folder.\n",
    "def GetFileNames(path = 'None', isVira = False):\n",
    "    try:\n",
    "        if isVira:\n",
    "            return [os.path.join(path, file) for file in os.listdir(path) if re.search('_virus_', file)]\n",
    "        else:\n",
    "            return [os.path.join(path, file) for file in os.listdir(path)]\n",
    "    except:\n",
    "        print('Path \"{0}\" Not found'.format(path))\n",
    "\n",
    "def MoveFiles(fileNames, source, destination):\n",
    "    # Note copy has odd behaviour. - Depricated -> Now using \"SaveToTensor\"\n",
    "    #Removes all content in folder first\n",
    "    for f in os.listdir(destination):\n",
    "        os.remove(os.path.join(destination, f))\n",
    "    # copys the files in the original folder to the new folder\n",
    "    for f in fileNames:\n",
    "        src_path = os.path.join(source, f)\n",
    "        dst_path = os.path.join(destination, f)\n",
    "        shutil.copy(src_path, dst_path)\n",
    "    print('moved all files to \"{0}\"'.format(destination))\n",
    "    return None\n",
    "\n",
    "def SaveToTensor(images, h = 32, w = 32):\n",
    "    ''' should take in a image and resize it tot h x w (keep layers?). TODO: update description'''\n",
    "    imgList = []\n",
    "    k = 0\n",
    "    for i in images:\n",
    "        if k % 50 == 20:\n",
    "            print(f'iteration {k}/{len(images)}')\n",
    "            break\n",
    "        img = Image.open(i)\n",
    "        newImg = np.array(img.resize((h, w)).convert('L')).astype(np.float32)/255#resizes and converts to grayscale\n",
    "        #, Image.ANTIALIAS) #'Provides smothing' should not perform this probably.\n",
    "        imgList.append(torch.unsqueeze(torch.from_numpy(newImg), 0)) # ndarray -> tensor and adding 1 dimension (C x H x W)\n",
    "        k += 1\n",
    "    return torch.stack(imgList)\n",
    "print('preparing training data...')\n",
    "#Train data\n",
    "normal = GetFileNames('UnProccesed/chest_xray/train/NORMAL')\n",
    "normalTensor = SaveToTensor(normal, imgSize[0], imgSize[1])\n",
    "for i in range(normalTensor.shape[0]):\n",
    "    print(normalTensor[i].max(),normalTensor[0].min())"
   ]
  }
 ],
 "metadata": {
  "kernelspec": {
   "display_name": "Python 3",
   "language": "python",
   "name": "python3"
  },
  "language_info": {
   "codemirror_mode": {
    "name": "ipython",
    "version": 3
   },
   "file_extension": ".py",
   "mimetype": "text/x-python",
   "name": "python",
   "nbconvert_exporter": "python",
   "pygments_lexer": "ipython3",
   "version": "3.10.6"
  },
  "orig_nbformat": 4,
  "vscode": {
   "interpreter": {
    "hash": "916dbcbb3f70747c44a77c7bcd40155683ae19c65e1c03b4aa3499c5328201f1"
   }
  }
 },
 "nbformat": 4,
 "nbformat_minor": 2
}
