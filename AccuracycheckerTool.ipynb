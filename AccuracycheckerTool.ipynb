{
 "cells": [
  {
   "cell_type": "code",
   "execution_count": 5,
   "metadata": {},
   "outputs": [],
   "source": [
    "import torch\n",
    "import numpy as np\n",
    "import os\n"
   ]
  },
  {
   "cell_type": "code",
   "execution_count": 6,
   "metadata": {},
   "outputs": [],
   "source": [
    "def printScore(file):\n",
    "    directory = '/home/thire399/Documents/School/DC-MasterThesis-2023/Data/Loss_chest_xray/'\n",
    "    os.chdir(directory)\n",
    "    train = torch.load('train_loss' + file + '.pt').tolist()\n",
    "    val = torch.load('val_loss' + file + '.pt').tolist()\n",
    "    print('min train accuracy {0}\\nmin val accuracy   {1}\\nAfter {2} epochs'.format(\n",
    "                    np.round(1-min(train),3 ),\n",
    "                    np.round(1-min(val), 3),\n",
    "                    val.index(min(val))))\n",
    "    return None"
   ]
  },
  {
   "attachments": {},
   "cell_type": "markdown",
   "metadata": {},
   "source": [
    "## Full Dataset"
   ]
  },
  {
   "attachments": {},
   "cell_type": "markdown",
   "metadata": {},
   "source": [
    "### 64x64"
   ]
  },
  {
   "attachments": {},
   "cell_type": "markdown",
   "metadata": {},
   "source": [
    "#### UNet"
   ]
  },
  {
   "cell_type": "code",
   "execution_count": 25,
   "metadata": {},
   "outputs": [
    {
     "name": "stdout",
     "output_type": "stream",
     "text": [
      "min train accuracy 0.441\n",
      "min val accuracy   0.443\n",
      "After 24 epochs\n"
     ]
    }
   ],
   "source": [
    "file = '64x64FullUNet20230329-015602'\n",
    "printScore(file)\n"
   ]
  },
  {
   "cell_type": "code",
   "execution_count": 12,
   "metadata": {},
   "outputs": [
    {
     "name": "stdout",
     "output_type": "stream",
     "text": [
      "min train loss: 0.869\n",
      "min val loss:   0.836\n",
      "After 44 epochs\n"
     ]
    }
   ],
   "source": [
    "file = '64x64ViraUNet20230316-171508'\n",
    "train = torch.load('train_loss' + file + '.pt').tolist()\n",
    "val = torch.load('val_loss' + file + '.pt').tolist()\n",
    "print('min train accuracy {0}\\nmin val accuracy   {1}\\nAfter {2} epochs'.format(\n",
    "                    np.round(1-min(train),3 ),\n",
    "                    np.round(1-min(val), 3),\n",
    "                    val.index(min(val))))\n"
   ]
  },
  {
   "cell_type": "code",
   "execution_count": 17,
   "metadata": {},
   "outputs": [
    {
     "name": "stdout",
     "output_type": "stream",
     "text": [
      "min train loss: 0.867\n",
      "min val loss:   0.768\n",
      "After 94 epochs\n"
     ]
    }
   ],
   "source": [
    "file = '64x64RandomUNet20230318-191122'\n",
    "train = torch.load('train_loss' + file + '.pt').tolist()\n",
    "val = torch.load('val_loss' + file + '.pt').tolist()\n",
    "print('min train accuracy {0}\\nmin val accuracy   {1}\\nAfter {2} epochs'.format(\n",
    "                    np.round(1-min(train),3 ),\n",
    "                    np.round(1-min(val), 3),\n",
    "                    val.index(min(val))))"
   ]
  },
  {
   "attachments": {},
   "cell_type": "markdown",
   "metadata": {},
   "source": [
    "#### Resnet"
   ]
  },
  {
   "cell_type": "code",
   "execution_count": 21,
   "metadata": {},
   "outputs": [
    {
     "name": "stdout",
     "output_type": "stream",
     "text": [
      "min train accuracy 0.515\n",
      "min val accuracy   0.507\n",
      "After 36 epochs\n"
     ]
    }
   ],
   "source": [
    "file = '64x64FullResNet20230329-013639'\n",
    "train = torch.load('train_loss' + file + '.pt').tolist()\n",
    "val = torch.load('val_loss' + file + '.pt').tolist()\n",
    "print('min train accuracy {0}\\nmin val accuracy   {1}\\nAfter {2} epochs'.format(\n",
    "                    np.round(1-min(train),3 ),\n",
    "                    np.round(1-min(val), 3),\n",
    "                    val.index(min(val))))\n"
   ]
  },
  {
   "cell_type": "code",
   "execution_count": 33,
   "metadata": {},
   "outputs": [
    {
     "name": "stdout",
     "output_type": "stream",
     "text": [
      "min train loss: 0.827\n",
      "min val loss:   0.812\n",
      "After 18 epochs\n"
     ]
    }
   ],
   "source": [
    "#file = '64x64VirusResnet50ResNet20230319-163758'#1\n",
    "file = '64x64VirusResnet50ResNet20230319-164004'#2\n",
    "#file = '64x64VirusResnet50ResNet20230319-164407'#3\n",
    "\n",
    "train = torch.load('train_loss' + file + '.pt').tolist()\n",
    "val = torch.load('val_loss' + file + '.pt').tolist()\n",
    "print('min train accuracy {0}\\nmin val accuracy   {1}\\nAfter {2} epochs'.format(\n",
    "                    np.round(1-min(train),3 ),\n",
    "                    np.round(1-min(val), 3),\n",
    "                    val.index(min(val))))"
   ]
  },
  {
   "cell_type": "code",
   "execution_count": 7,
   "metadata": {},
   "outputs": [
    {
     "name": "stdout",
     "output_type": "stream",
     "text": [
      "min train loss: 0.509\n",
      "min val loss:   0.514\n",
      "After 11 epochs\n"
     ]
    }
   ],
   "source": [
    "file = '64x64RandomResnet50ResNet20230319-171839'#3\n",
    "train = torch.load('train_loss' + file + '.pt').tolist()\n",
    "val = torch.load('val_loss' + file + '.pt').tolist()\n",
    "print('min train accuracy {0}\\nmin val accuracy   {1}\\nAfter {2} epochs'.format(\n",
    "                    np.round(1-min(train),3 ),\n",
    "                    np.round(1-min(val), 3),\n",
    "                    val.index(min(val))))"
   ]
  },
  {
   "attachments": {},
   "cell_type": "markdown",
   "metadata": {},
   "source": [
    "#### AlexNet"
   ]
  },
  {
   "cell_type": "code",
   "execution_count": 20,
   "metadata": {},
   "outputs": [
    {
     "name": "stdout",
     "output_type": "stream",
     "text": [
      "min train accuracy 0.736\n",
      "min val accuracy   0.748\n",
      "After 163 epochs\n"
     ]
    }
   ],
   "source": [
    "file = '64x64FullAlexNet20230329-012244'\n",
    "printScore(file)"
   ]
  },
  {
   "cell_type": "code",
   "execution_count": 15,
   "metadata": {},
   "outputs": [
    {
     "name": "stdout",
     "output_type": "stream",
     "text": [
      "min train accuracy 0.987\n",
      "min val accuracy   0.89\n",
      "After 30 epochs\n"
     ]
    }
   ],
   "source": [
    "file = '64x64ViraAlexNet20230319-200633'\n",
    "printScore(file)\n"
   ]
  },
  {
   "cell_type": "code",
   "execution_count": 16,
   "metadata": {},
   "outputs": [
    {
     "name": "stdout",
     "output_type": "stream",
     "text": [
      "min train accuracy 0.998\n",
      "min val accuracy   0.977\n",
      "After 98 epochs\n"
     ]
    }
   ],
   "source": [
    "file = '64x64RandomAlexNet20230319-200910'\n",
    "printScore(file)"
   ]
  },
  {
   "attachments": {},
   "cell_type": "markdown",
   "metadata": {},
   "source": [
    "### 128x128"
   ]
  },
  {
   "attachments": {},
   "cell_type": "markdown",
   "metadata": {},
   "source": [
    "#### UNet"
   ]
  },
  {
   "cell_type": "code",
   "execution_count": 17,
   "metadata": {},
   "outputs": [
    {
     "name": "stdout",
     "output_type": "stream",
     "text": [
      "min train accuracy 0.906\n",
      "min val accuracy   0.79\n",
      "After 13 epochs\n"
     ]
    }
   ],
   "source": [
    "file = '128x128FullUNet20230316-161241'\n",
    "printScore(file)"
   ]
  },
  {
   "cell_type": "code",
   "execution_count": 19,
   "metadata": {},
   "outputs": [
    {
     "name": "stdout",
     "output_type": "stream",
     "text": [
      "min train accuracy 0.884\n",
      "min val accuracy   0.798\n",
      "After 33 epochs\n"
     ]
    }
   ],
   "source": [
    "file = '128x128ViraUNet20230318-142253'\n",
    "printScore(file)"
   ]
  },
  {
   "cell_type": "code",
   "execution_count": 20,
   "metadata": {},
   "outputs": [
    {
     "name": "stdout",
     "output_type": "stream",
     "text": [
      "min train accuracy 0.914\n",
      "min val accuracy   0.721\n",
      "After 97 epochs\n"
     ]
    }
   ],
   "source": [
    "file = '128x128RandomUNet20230318-194051'\n",
    "printScore(file)"
   ]
  },
  {
   "attachments": {},
   "cell_type": "markdown",
   "metadata": {},
   "source": [
    "#### ResNet"
   ]
  },
  {
   "cell_type": "code",
   "execution_count": 21,
   "metadata": {},
   "outputs": [
    {
     "name": "stdout",
     "output_type": "stream",
     "text": [
      "min train accuracy 0.829\n",
      "min val accuracy   0.529\n",
      "After 8 epochs\n"
     ]
    }
   ],
   "source": [
    "file = '128x128FullResnet50ResNet20230316-164847'\n",
    "printScore(file)\n"
   ]
  },
  {
   "attachments": {},
   "cell_type": "markdown",
   "metadata": {},
   "source": [
    "#### AlexNet"
   ]
  },
  {
   "cell_type": "code",
   "execution_count": 36,
   "metadata": {},
   "outputs": [
    {
     "name": "stdout",
     "output_type": "stream",
     "text": [
      "min train accuracy 0.751\n",
      "min val accuracy   0.757\n",
      "After 176 epochs\n"
     ]
    }
   ],
   "source": [
    "file = '128x128FullAlexNet20230329-022218'\n",
    "printScore(file)"
   ]
  },
  {
   "cell_type": "code",
   "execution_count": 31,
   "metadata": {},
   "outputs": [
    {
     "name": "stdout",
     "output_type": "stream",
     "text": [
      "min train accuracy 0.972\n",
      "min val accuracy   0.958\n",
      "After 30 epochs\n"
     ]
    }
   ],
   "source": [
    "file = '128x128VirusAlexNet20230319-210638'\n",
    "printScore(file)"
   ]
  },
  {
   "cell_type": "code",
   "execution_count": 33,
   "metadata": {},
   "outputs": [
    {
     "name": "stdout",
     "output_type": "stream",
     "text": [
      "min train accuracy 0.931\n",
      "min val accuracy   0.824\n",
      "After 40 epochs\n"
     ]
    }
   ],
   "source": [
    "file = '128x128RandomAlexNet20230319-211018'\n",
    "printScore(file)"
   ]
  },
  {
   "attachments": {},
   "cell_type": "markdown",
   "metadata": {},
   "source": [
    "## Something Else"
   ]
  },
  {
   "cell_type": "code",
   "execution_count": 5,
   "metadata": {},
   "outputs": [
    {
     "name": "stdout",
     "output_type": "stream",
     "text": [
      "label 0\n",
      "torch.Size([1, 128, 128])\n",
      "torch.Size([4032, 1, 128, 128])\n",
      "tensor([[[0., 0., 0.,  ..., 0., 0., 0.],\n",
      "         [0., 0., 0.,  ..., 0., 0., 0.],\n",
      "         [0., 0., 0.,  ..., 0., 0., 0.],\n",
      "         ...,\n",
      "         [0., 0., 0.,  ..., 0., 0., 0.],\n",
      "         [0., 0., 0.,  ..., 0., 0., 0.],\n",
      "         [0., 0., 0.,  ..., 0., 0., 0.]]])\n",
      "torch.Size([5760]) tensor(2875)\n",
      "tensor(0.9922) tensor(0.)\n"
     ]
    },
    {
     "data": {
      "image/png": "[encoded data removed]",
      "text/plain": [
       "<Figure size 640x480 with 1 Axes>"
      ]
     },
     "metadata": {},
     "output_type": "display_data"
    }
   ],
   "source": [
    "import torch \n",
    "import matplotlib.pyplot as plt\n",
    "import numpy as np\n",
    "import os\n",
    "index = 0\n",
    "dataset = 'Alzheimer_MRI'\n",
    "#dataset = 'chest_xray'\n",
    "directory = '/home/thire399/Documents/School/DC-MasterThesis-2023/Data'\n",
    "os.chdir(directory)\n",
    "data = torch.load(f'Proccesed/{dataset}/trainX.pt')\n",
    "y = torch.load(f'Proccesed/{dataset}/trainY.pt')\n",
    "print(f'label {y[index]}')\n",
    "print(data[index].shape)\n",
    "print(data.shape)\n",
    "print(data[index])\n",
    "plt.imshow(data[0][0], cmap = 'gray')\n",
    "print(y.shape, sum(y))\n",
    "print(torch.max(data[0]), torch.min(data[0]))\n",
    "plt.show()\n"
   ]
  },
  {
   "cell_type": "code",
   "execution_count": 31,
   "metadata": {},
   "outputs": [
    {
     "name": "stdout",
     "output_type": "stream",
     "text": [
      "Using:  cuda:0\n",
      "Model specified.\n",
      "Using trained model: \"Data/Loss_chest_xray/model64x64RandomUNet20230403-191445\"\n",
      "     ===> F-Score: [112/120 (100%)]\t\n",
      "Best Threshold=0.000000, F-Score=0.667\n",
      "Precision: 0.5\n",
      "Recall: 1.0\n",
      "Threshold: 0 (not used)\n",
      "Accuracy on temp ValidationSet: 0.5     --> (sum(Prediction = Target))/n_sampels\n",
      "Using:  cuda:0\n",
      "Model specified.\n",
      "Using trained model: \"Data/Loss_chest_xray/model64x64RandomUNet20230403-191445\"\n",
      "Best Threshold=0.000000, F-Score=0.667\n",
      "Precision: 0.5\n",
      "Recall: 1.0\n",
      "Threshold: 0 (not used)\n",
      "Accuracy on ValidationSet: 0.5     --> (sum(Prediction = Target))/n_sampels\n",
      "min train accuracy 0.307\n",
      "min val accuracy   0.306\n",
      "After 36 epochs\n"
     ]
    }
   ],
   "source": [
    "import Loop\n",
    "import torch.nn as nn\n",
    "from torchvision import models\n",
    "import Models as M\n",
    "import gc\n",
    "os.chdir('/home/thire399/Documents/School/DC-MasterThesis-2023')\n",
    "del model \n",
    "gc.collect()\n",
    "#model = models.alexnet(pretrained = False)\n",
    "#model.classifier[6] = nn.Linear(in_features=4096, out_features = 2, bias=True)\n",
    "#model = models.resnet50(pretrained = False)\n",
    "#model.fc = nn.Linear(in_features=2048, out_features = 2, bias=True)\n",
    "\n",
    "model = M.UNet(enc_chs = (3, 64, 128, 256, 512, 1024)\n",
    "               , dec_chs = (1024, 512, 256, 128, 64)\n",
    "               , num_class = 1\n",
    "               , df = 4096) # binary classification = 1.\n",
    "batch_size   = 64\n",
    "tempMOdel = \"Data/Loss_chest_xray/model64x64RandomUNet20230403-191445\"\n",
    "#Data parameters\n",
    "dataSet      = 'chest_xray'\n",
    "datatype     = 'Random'\n",
    "os.makedirs('Data/Loss_chest_xray/test', exist_ok = True)\n",
    "costumLabel  = '64x64Full'\n",
    "\n",
    "xVal = torch.load('Data/Proccesed/'+ dataSet + '/' + datatype +'tempValX.pt')\n",
    "yVal = torch.load('Data/Proccesed/'+ dataSet + '/' + datatype +'tempValY.pt')\n",
    "\n",
    "xVal = xVal.repeat(1, 3, 1, 1)     # only for pretrained model\n",
    "\n",
    "tempval_Set = torch.utils.data.TensorDataset(xVal, yVal)\n",
    "tempval_Loader = torch.utils.data.DataLoader(tempval_Set,\n",
    "                                        batch_size = batch_size,\n",
    "                                        shuffle = True,\n",
    "                                        num_workers = 0)\n",
    "p, t, fscore = Loop.eval_model(model = model\n",
    "                , dataset = dataSet\n",
    "                , dev = False\n",
    "                , val_Loader = tempval_Loader\n",
    "                , model_filePath = tempMOdel\n",
    "                , size = costumLabel)\n",
    "\n",
    "print('Accuracy on temp ValidationSet: {0}     --> (sum(Prediction = Target))/n_sampels'.format(np.sum([p == t])/t.shape[0]))\n",
    "\n",
    "\n",
    "xVal = torch.load('Data/Proccesed/'+ dataSet + '/valX.pt')\n",
    "yVal = torch.load('Data/Proccesed/'+ dataSet + '/valY.pt')\n",
    "\n",
    "xVal = xVal.repeat(1, 3, 1, 1)     # only for pretrained model\n",
    "\n",
    "val_Set = torch.utils.data.TensorDataset(xVal, yVal)\n",
    "val_Loader = torch.utils.data.DataLoader(val_Set,\n",
    "                                        batch_size = batch_size,\n",
    "                                        shuffle = True,\n",
    "                                        num_workers = 0)\n",
    "\n",
    "\n",
    "p, t, fscore = Loop.eval_model(model = model\n",
    "                , dataset = dataSet\n",
    "                , dev = False\n",
    "                , val_Loader = val_Loader\n",
    "                , model_filePath = tempMOdel\n",
    "                , size = costumLabel)\n",
    "\n",
    "\n",
    "\n",
    "print('Accuracy on ValidationSet: {0}     --> (sum(Prediction = Target))/n_sampels'.format(np.sum([p == t])/t.shape[0]))\n",
    "printScore('64x64RandomUNet20230403-191445')\n"
   ]
  },
  {
   "cell_type": "code",
   "execution_count": 29,
   "metadata": {},
   "outputs": [
    {
     "name": "stdout",
     "output_type": "stream",
     "text": [
      "The training of models in this work is estimated to use 0.054 kWh of electricity contributing to 0.004 kg of CO2eq. This is equivalent to 0.039 km travelled by car. Measured by carbontracker (https://github.com/lfwa/carbontracker).\n",
      "Output file name: Data/Loss_chest_xray/CarbonLogs/64x64RandomUNet_17135_2023-04-03T191445Z_carbontracker_output.log\n",
      "Standard file name: Data/Loss_chest_xray/CarbonLogs/64x64RandomUNet_17135_2023-04-03T191445Z_carbontracker.log\n",
      "Stopped early: True\n",
      "Measured consumption: {'epochs': 46, 'duration (s)': 149.0, 'energy (kWh)': 0.00382, 'co2eq (g)': 0.343831, 'equivalents': {'km travelled by car': 0.003198}}\n",
      "Predicted consumption: {'epochs': 400, 'duration (s)': 1649.0, 'energy (kWh)': 0.038144, 'co2eq (g)': 4.144998, 'equivalents': {'km travelled by car': 0.038558}}\n",
      "Measured GPU devices: ['NVIDIA GeForce RTX 3070 Laptop GPU']\n"
     ]
    }
   ],
   "source": [
    "from carbontracker import parser\n",
    "dataSet      = 'chest_xray'\n",
    "directory = '/home/thire399/Documents/School/DC-MasterThesis-2023'\n",
    "os.chdir(directory)\n",
    "\n",
    "\n",
    "parser.print_aggregate(log_dir= 'Data/Loss_' + dataSet + '/CarbonLogs')\n",
    "logs = parser.parse_all_logs(log_dir = 'Data/Loss_' + dataSet + '/CarbonLogs')\n",
    "first_log = logs[5]\n",
    "print(f\"Output file name: {first_log['output_filename']}\")\n",
    "print(f\"Standard file name: {first_log['standard_filename']}\")\n",
    "print(f\"Stopped early: {first_log['early_stop']}\")\n",
    "print(f\"Measured consumption: {first_log['actual']}\")\n",
    "print(f\"Predicted consumption: {first_log['pred']}\")\n",
    "print(f\"Measured GPU devices: {first_log['components']['gpu']['devices']}\")"
   ]
  },
  {
   "cell_type": "code",
   "execution_count": null,
   "metadata": {},
   "outputs": [],
   "source": [
    "from carbontracker import parser\n",
    "import os\n",
    "dataSet = 'chest_xray'\n",
    "directory = '/home/thire399/Documents/School/DC-MasterThesis-2023'\n",
    "os.chdir(directory)\n",
    "\n",
    "parser.print_aggregate(log_dir= 'Data/Loss_' + dataSet + '/CarbonLogs')\n",
    "logs = parser.parse_all_logs(log_dir = 'Data/Loss_' + dataSet + '/CarbonLogs')\n",
    "var_names = []  # Declare empty list to store var_names\n",
    "\n",
    "for log in logs:\n",
    "    var_name = ((log['output_filename']).split(\"64x64\")[1]).split(\"_\")[0]\n",
    "    var_names.append(var_name)\n",
    "    output_file = log['output_filename']\n",
    "    standard_file = log['standard_filename']\n",
    "    early_stop = log['early_stop']\n",
    "    actual_consumption = log['actual']\n",
    "    predicted_consumption = log['pred']\n",
    "    gpu_devices = log['components']['gpu']['devices']\n",
    "    \n",
    "    # Save variables using var_name as the prefix\n",
    "    locals()[f'{var_name}_output_file'] = output_file\n",
    "    locals()[f'{var_name}_standard_file'] = standard_file\n",
    "    locals()[f'{var_name}_early_stop'] = early_stop\n",
    "    locals()[f'{var_name}_actual_consumption'] = actual_consumption\n",
    "    locals()[f'{var_name}_predicted_consumption'] = predicted_consumption\n",
    "    locals()[f'{var_name}_gpu_devices'] = gpu_devices"
   ]
  },
  {
   "cell_type": "code",
   "execution_count": null,
   "metadata": {},
   "outputs": [],
   "source": [
    "import numpy as np\n",
    "import matplotlib.pyplot as plt\n",
    "import seaborn as sns # improves plot aesthetics\n",
    "\n",
    "\n",
    "def _invert(x, limits):\n",
    "    \"\"\"inverts a value x on a scale from\n",
    "    limits[0] to limits[1]\"\"\"\n",
    "    return limits[1] - (x - limits[0])\n",
    "\n",
    "def _scale_data(data, ranges):\n",
    "    \"\"\"scales data[1:] to ranges[0],\n",
    "    inverts if the scale is reversed\"\"\"\n",
    "    for d, (y1, y2) in zip(data[1:], ranges[1:]):\n",
    "        assert (y1 <= d <= y2) or (y2 <= d <= y1)\n",
    "    x1, x2 = ranges[0]\n",
    "    d = data[0]\n",
    "    if x1 > x2:\n",
    "        d = _invert(d, (x1, x2))\n",
    "        x1, x2 = x2, x1\n",
    "    sdata = [d]\n",
    "    for d, (y1, y2) in zip(data[1:], ranges[1:]):\n",
    "        if y1 > y2:\n",
    "            d = _invert(d, (y1, y2))\n",
    "            y1, y2 = y2, y1\n",
    "        sdata.append((d-y1) / (y2-y1) \n",
    "                     * (x2 - x1) + x1)\n",
    "    return sdata\n",
    "\n",
    "class ComplexRadar():\n",
    "    def __init__(self, fig, variables, ranges,\n",
    "                 n_ordinate_levels=6):\n",
    "        angles = np.arange(0, 360, 360./len(variables))\n",
    "\n",
    "        axes = [fig.add_axes([0.1,0.1,0.9,0.9],polar=True,\n",
    "                label = \"axes{}\".format(i)) \n",
    "                for i in range(len(variables))]\n",
    "        l, text = axes[0].set_thetagrids(angles, \n",
    "                                         labels=variables)\n",
    "        [txt.set_rotation(angle-90) for txt, angle \n",
    "             in zip(text, angles)]\n",
    "        for ax in axes[1:]:\n",
    "            ax.patch.set_visible(False)\n",
    "            ax.grid(\"off\")\n",
    "            ax.xaxis.set_visible(False)\n",
    "        for i, ax in enumerate(axes):\n",
    "            grid = np.linspace(*ranges[i], \n",
    "                               num=n_ordinate_levels)\n",
    "            gridlabel = [\"{}\".format(round(x,2)) \n",
    "                         for x in grid]\n",
    "            if ranges[i][0] > ranges[i][1]:\n",
    "                grid = grid[::-1] # hack to invert grid\n",
    "                          # gridlabels aren't reversed\n",
    "            gridlabel[0] = \"\" # clean up origin\n",
    "            ax.set_rgrids(grid, labels=gridlabel,\n",
    "                         angle=angles[i])\n",
    "            #ax.spines[\"polar\"].set_visible(False)\n",
    "            ax.set_ylim(*ranges[i])\n",
    "        # variables for plotting\n",
    "        self.angle = np.deg2rad(np.r_[angles, angles[0]])\n",
    "        self.ranges = ranges\n",
    "        self.ax = axes[0]\n",
    "    def plot(self, data, *args, **kw):\n",
    "        sdata = _scale_data(data, self.ranges)\n",
    "        self.ax.plot(self.angle, np.r_[sdata, sdata[0]], *args, **kw)\n",
    "    def fill(self, data, *args, **kw):\n",
    "        sdata = _scale_data(data, self.ranges)\n",
    "        self.ax.fill(self.angle, np.r_[sdata, sdata[0]], *args, **kw)\n"
   ]
  },
  {
   "cell_type": "code",
   "execution_count": null,
   "metadata": {},
   "outputs": [],
   "source": [
    "#grouping data\n",
    "groups = {}\n",
    "for var_name in var_names:\n",
    "    prefix = var_name[:4]\n",
    "    if prefix not in groups:\n",
    "        groups[prefix] = []\n",
    "    groups[prefix].append(var_name)"
   ]
  },
  {
   "cell_type": "code",
   "execution_count": null,
   "metadata": {},
   "outputs": [],
   "source": [
    "# Plot variables in each group\n",
    "for prefix, var_names in groups.items():\n",
    "    variables = (r'$P_v$', r'$E(kWh)$', r'$|\\theta|(M)$', r'$T(s)$')\n",
    "    fig1 = plt.figure(figsize=(6, 6))\n",
    "    radar = ComplexRadar(fig1, variables, [(0, 1), (0, 0.03), (0, 20), (0, 20)])\n",
    "    for var_name in var_names:\n",
    "        data = (0.85, locals()[f'{var_name}_actual_consumption']['energy (kWh)'],\n",
    "                10, locals()[f'{var_name}_actual_consumption']['duration (s)']/60)\n",
    "        radar.plot(data, label=var_name)\n",
    "        radar.fill(data, alpha=0.2)\n",
    "    le = radar.ax.legend(loc='upper right', frameon=1, bbox_to_anchor=(1.3, 1.1))\n",
    "    frame = le.get_frame()\n",
    "    frame.set_facecolor('grey')\n",
    "    frame.set_edgecolor('black')\n",
    "    plt.title(f'Variables with prefix {prefix}')\n",
    "    filename = f'{prefix}.png'  # Set filename as prefix\n",
    "    filepath = os.path.join('/content/drive/MyDrive/Master/Loss_chest_xray/', filename)  # change filepath\n",
    "    plt.savefig(filepath, dpi=400, bbox_inches='tight')\n",
    "    plt.show()"
   ]
  },
  {
   "cell_type": "code",
   "execution_count": 20,
   "metadata": {},
   "outputs": [
    {
     "name": "stdout",
     "output_type": "stream",
     "text": [
      "preparing training data...\n",
      "iteration 20/1341\n",
      "tensor(0.9137) tensor(0.)\n",
      "tensor(0.9176) tensor(0.)\n",
      "tensor(0.8667) tensor(0.)\n",
      "tensor(0.9294) tensor(0.)\n",
      "tensor(0.9176) tensor(0.)\n",
      "tensor(0.9608) tensor(0.)\n",
      "tensor(0.9451) tensor(0.)\n",
      "tensor(0.9804) tensor(0.)\n",
      "tensor(0.8588) tensor(0.)\n",
      "tensor(0.8980) tensor(0.)\n",
      "tensor(0.8039) tensor(0.)\n",
      "tensor(0.9843) tensor(0.)\n",
      "tensor(0.9686) tensor(0.)\n",
      "tensor(0.9451) tensor(0.)\n",
      "tensor(0.9373) tensor(0.)\n",
      "tensor(0.9059) tensor(0.)\n",
      "tensor(0.8314) tensor(0.)\n",
      "tensor(0.9216) tensor(0.)\n",
      "tensor(0.8980) tensor(0.)\n",
      "tensor(0.8941) tensor(0.)\n"
     ]
    }
   ],
   "source": [
    "''' Data processing file '''\n",
    "import numpy as np\n",
    "import matplotlib.pyplot as plt\n",
    "import os \n",
    "import shutil\n",
    "import torch\n",
    "import CoreSet_Selection as CS\n",
    "from PIL import Image\n",
    "import gc\n",
    "import re\n",
    "from sklearn.model_selection import train_test_split\n",
    "# Change for your own file path. Should only need to change this path. all other paths should be fine as is.!!\n",
    "\n",
    "# TODO: update function description to standard.\n",
    "directory = '/home/thire399/Documents/School/DC-MasterThesis-2023/Data'\n",
    "os.chdir(directory)\n",
    "trainSize = 400\n",
    "valSize = 100\n",
    "imgSize = (64, 64)\n",
    "vira = False\n",
    "\n",
    "\n",
    "#Dataset to create\n",
    "createANew = True\n",
    "generateRandom = False\n",
    "generateDistriution = False\n",
    "\n",
    "\n",
    "#function to get all file names in the folder.\n",
    "def GetFileNames(path = 'None', isVira = False):\n",
    "    try:\n",
    "        if isVira:\n",
    "            return [os.path.join(path, file) for file in os.listdir(path) if re.search('_virus_', file)]\n",
    "        else:\n",
    "            return [os.path.join(path, file) for file in os.listdir(path)]\n",
    "    except:\n",
    "        print('Path \"{0}\" Not found'.format(path))\n",
    "\n",
    "def MoveFiles(fileNames, source, destination):\n",
    "    # Note copy has odd behaviour. - Depricated -> Now using \"SaveToTensor\"\n",
    "    #Removes all content in folder first\n",
    "    for f in os.listdir(destination):\n",
    "        os.remove(os.path.join(destination, f))\n",
    "    # copys the files in the original folder to the new folder\n",
    "    for f in fileNames:\n",
    "        src_path = os.path.join(source, f)\n",
    "        dst_path = os.path.join(destination, f)\n",
    "        shutil.copy(src_path, dst_path)\n",
    "    print('moved all files to \"{0}\"'.format(destination))\n",
    "    return None\n",
    "\n",
    "def SaveToTensor(images, h = 32, w = 32):\n",
    "    ''' should take in a image and resize it tot h x w (keep layers?). TODO: update description'''\n",
    "    imgList = []\n",
    "    k = 0\n",
    "    for i in images:\n",
    "        if k % 50 == 20:\n",
    "            print(f'iteration {k}/{len(images)}')\n",
    "            break\n",
    "        img = Image.open(i)\n",
    "        newImg = np.array(img.resize((h, w)).convert('L')).astype(np.float32)/255#resizes and converts to grayscale\n",
    "        #, Image.ANTIALIAS) #'Provides smothing' should not perform this probably.\n",
    "        imgList.append(torch.unsqueeze(torch.from_numpy(newImg), 0)) # ndarray -> tensor and adding 1 dimension (C x H x W)\n",
    "        k += 1\n",
    "    return torch.stack(imgList)\n",
    "print('preparing training data...')\n",
    "#Train data\n",
    "normal = GetFileNames('UnProccesed/chest_xray/train/NORMAL')\n",
    "normalTensor = SaveToTensor(normal, imgSize[0], imgSize[1])\n",
    "for i in range(normalTensor.shape[0]):\n",
    "    print(normalTensor[i].max(),normalTensor[0].min())"
   ]
  }
 ],
 "metadata": {
  "kernelspec": {
   "display_name": "Python 3",
   "language": "python",
   "name": "python3"
  },
  "language_info": {
   "codemirror_mode": {
    "name": "ipython",
    "version": 3
   },
   "file_extension": ".py",
   "mimetype": "text/x-python",
   "name": "python",
   "nbconvert_exporter": "python",
   "pygments_lexer": "ipython3",
   "version": "3.10.6"
  },
  "orig_nbformat": 4,
  "vscode": {
   "interpreter": {
    "hash": "31f2aee4e71d21fbe5cf8b01ff0e069b9275f58929596ceb00d14d90e3e16cd6"
   }
  }
 },
 "nbformat": 4,
 "nbformat_minor": 2
}
